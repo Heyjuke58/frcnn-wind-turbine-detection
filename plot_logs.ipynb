{
 "cells": [
  {
   "cell_type": "code",
   "execution_count": 10,
   "outputs": [
    {
     "data": {
      "text/plain": "CompletedProcess(args=['pip', 'install', 'numpy', 'pandas', 'matplotlib'], returncode=0)"
     },
     "metadata": {},
     "output_type": "execute_result",
     "execution_count": 10
    }
   ],
   "source": [
    "import subprocess\n",
    "\n",
    "subprocess.run(['pip', 'install', 'numpy', 'pandas', 'matplotlib'])"
   ],
   "metadata": {
    "collapsed": false,
    "pycharm": {
     "name": "#%%\n",
     "is_executing": false
    }
   }
  },
  {
   "cell_type": "code",
   "execution_count": 11,
   "metadata": {
    "collapsed": true,
    "pycharm": {
     "is_executing": false,
     "name": "#%%\n"
    }
   },
   "outputs": [
    {
     "traceback": [
      "\u001b[1;31m---------------------------------------------------------------------------\u001b[0m",
      "\u001b[1;31mModuleNotFoundError\u001b[0m                       Traceback (most recent call last)",
      "\u001b[1;32m<ipython-input-11-f7d60da920d9>\u001b[0m in \u001b[0;36m<module>\u001b[1;34m\u001b[0m\n\u001b[0;32m      3\u001b[0m \u001b[0msubprocess\u001b[0m\u001b[1;33m.\u001b[0m\u001b[0mrun\u001b[0m\u001b[1;33m(\u001b[0m\u001b[1;33m[\u001b[0m\u001b[1;34m'pip'\u001b[0m\u001b[1;33m,\u001b[0m \u001b[1;34m'install'\u001b[0m\u001b[1;33m,\u001b[0m \u001b[1;34m'numpy'\u001b[0m\u001b[1;33m,\u001b[0m \u001b[1;34m'pandas'\u001b[0m\u001b[1;33m,\u001b[0m \u001b[1;34m'matplotlib'\u001b[0m\u001b[1;33m]\u001b[0m\u001b[1;33m)\u001b[0m\u001b[1;33m\u001b[0m\u001b[1;33m\u001b[0m\u001b[0m\n\u001b[0;32m      4\u001b[0m \u001b[1;33m\u001b[0m\u001b[0m\n\u001b[1;32m----> 5\u001b[1;33m \u001b[1;32mimport\u001b[0m \u001b[0mpandas\u001b[0m \u001b[1;32mas\u001b[0m \u001b[0mpd\u001b[0m\u001b[1;33m\u001b[0m\u001b[1;33m\u001b[0m\u001b[0m\n\u001b[0m\u001b[0;32m      6\u001b[0m \u001b[1;32mimport\u001b[0m \u001b[0mmatplotlib\u001b[0m\u001b[1;33m.\u001b[0m\u001b[0mpyplot\u001b[0m \u001b[1;32mas\u001b[0m \u001b[0mplt\u001b[0m\u001b[1;33m\u001b[0m\u001b[1;33m\u001b[0m\u001b[0m\n\u001b[0;32m      7\u001b[0m \u001b[1;33m\u001b[0m\u001b[0m\n",
      "\u001b[1;31mModuleNotFoundError\u001b[0m: No module named 'pandas'"
     ],
     "ename": "ModuleNotFoundError",
     "evalue": "No module named 'pandas'",
     "output_type": "error"
    }
   ],
   "source": [
    "import subprocess\n",
    "\n",
    "subprocess.run(['pip', 'install', 'numpy', 'pandas', 'matplotlib'])\n",
    "\n",
    "import pandas as pd\n",
    "import matplotlib.pyplot as plt\n",
    "\n",
    "df = pd.read_csv('log/rpn3_z_training_with_val_0_30.csv', delimiter=';')\n",
    "\n",
    "plt.figure(figsize=(16, 5))\n",
    "\n",
    "plt.subplot(121)\n",
    "plt.plot(df[['loss_rpn_cls', 'loss_rpn_regr', 'curr_loss']])\n",
    "plt.title('RPN Losses')\n",
    "plt.xlabel('Epochs')\n",
    "plt.legend(['loss_rpn_cls', 'loss_rpn_regr', 'curr_loss'])\n",
    "\n",
    "# plt.subplot(322)\n",
    "# plt.plot(df[['loss_class_cls', 'loss_class_regr']])\n",
    "# plt.title('Classifier Losses')\n",
    "# plt.xlabel('Epochs')\n",
    "# plt.legend(['loss_class_cls', 'loss_class_regr'])\n",
    "\n",
    "plt.subplot(122)\n",
    "plt.plot(df[['val_loss_rpn_cls', 'val_loss_rpn_regr', 'curr_val_loss']])\n",
    "plt.title('Validation loss RPN')\n",
    "plt.xlabel('Epochs')\n",
    "plt.legend(['val_loss_rpn_cls', 'val_loss_rpn_regr', 'curr_val_loss'])\n",
    "\n",
    "# plt.subplot(324)\n",
    "# plt.plot(df['curr_loss'])\n",
    "# plt.title('Summed Loss')\n",
    "# plt.xlabel('Epochs')\n",
    "# plt.legend(['curr_loss'])\n",
    "# \n",
    "# plt.subplot(325)\n",
    "# plt.plot(df['class_acc'])\n",
    "# plt.title('Classifier Accuracy')\n",
    "# plt.xlabel('Epochs')\n",
    "# plt.legend(['class_acc'])\n",
    "\n",
    "plt.show()"
   ]
  }
 ],
 "metadata": {
  "kernelspec": {
   "name": "python3",
   "language": "python",
   "display_name": "Python 3"
  },
  "language_info": {
   "codemirror_mode": {
    "name": "ipython",
    "version": 2
   },
   "file_extension": ".py",
   "mimetype": "text/x-python",
   "name": "python",
   "nbconvert_exporter": "python",
   "pygments_lexer": "ipython2",
   "version": "2.7.6"
  },
  "pycharm": {
   "stem_cell": {
    "cell_type": "raw",
    "source": [],
    "metadata": {
     "collapsed": false
    }
   }
  }
 },
 "nbformat": 4,
 "nbformat_minor": 0
}